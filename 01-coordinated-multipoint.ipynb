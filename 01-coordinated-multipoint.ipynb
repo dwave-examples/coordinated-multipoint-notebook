{
 "cells": [
  {
   "cell_type": "markdown",
   "id": "75fc25d0-bc95-4c05-9d65-6d76daa61838",
   "metadata": {},
   "source": [
    "# Decoding Cellphone Signals with a Quantum Computer\n",
    "\n",
    "This notebook demonstrates the use of a quantum computer for decoding transmissions \n",
    "in cellular networks and compares performance to state-of-the-art classical \n",
    "decoding. It has the following sections:\n",
    "\n",
    "1. [Modeling a Network](#Modeling-a-Network) models a wireless/cellular network with nearest-neighbor\n",
    "    connectivity.\n",
    "2. [Decoding Transmissions: Classical Resources](#Decoding-Transmissions:-Classical-Resources) \n",
    "    presents three decoders used in today's cellular networks. \n",
    "3. [Decoding Transmissions: Quantum Resources](#Decoding-Transmissions:-Quantum-Resources) \n",
    "    demonstrates the use of a quantum computer to decode transmissions.\n",
    "4. [Supplementary Technical Material](#Supplementary-Technical-Material) provides \n",
    "    additional, more-detailed technical information.\n",
    "\n",
    "## A Hard (and Expensive) Problem\n",
    "\n",
    "The number of [base stations](https://en.wikipedia.org/wiki/Cell_site) required to \n",
    "serve a large city depends on the stations' signal-processing capacities. Unfortunately, \n",
    "small increases to environmental noise and cellphone numbers quickly harden[[1]](#1) \n",
    "the problem of decoding transmissions. The graphic below shows the dependency of \n",
    "transmission errors on \n",
    "[SNRb](https://en.wikipedia.org/wiki/Signal-to-noise_ratio), the signal-to-noise ratio per bit, and \n",
    "on $\\frac{Tx}{Rx}$, the ratio of transmitters (e.g. cellphones) to receivers (e.g., base stations)\n",
    "in the wireless network of this example. \n",
    "\n",
    "<img src=\"_static/problem_hardness_3d.png\" width=\"500\">\n",
    "\n",
    "The world's ubiquitous cellphones require huge numbers of base stations; for example, \n",
    "in mid 2022, China's Ministry of Industry and Information Technology reported having \n",
    "deployed almost \n",
    "[2 million base stations](https://techblog.comsoc.org/2022/08/19/china-miit-claim-475m-5g-mobile-users-1-97m-5g-base-stations-at-end-of-july-2022/) \n",
    "for its 5G network alone.\n",
    "\n",
    "A paper, [[2]](#2), presented in [SIGCOMM](https://www.sigcomm.org/) 2019 states, \"For optimal \n",
    "performance, an amount of computation that increases at an exponential rate both with the \n",
    "number of users and with the data rate of each user is often required. The base station’s \n",
    "computational capacity is thus becoming one of the key limiting factors on wireless capacity.\" \n",
    "\n",
    "However, power consumption scales steeply with computation capacity (with the notable \n",
    "exception of quantum computers: an Advantage&#8482; requires just 25kW for its operation) and \n",
    "powering base stations has become \n",
    "[enormously challenging](https://techblog.comsoc.org/2020/08/07/5g-base-station-deployments-open-ran-competition-huge-5g-bs-power-problem/).  \n",
    "\n",
    "Profitability for network providers is now driven by seemingly conflicting imperatives: \n",
    "(1) reducing power consumption and (2) increasing processing capability.\n",
    "\n",
    "## What is Coordinated Multipoint?\n",
    "\n",
    "Shortly after the first generation of cellular networks were deployed it became clear that \n",
    "the naive model of pairing cellphones to a single nearby base station is inadequate. Many \n",
    "technologies have been developed to boost performance. \n",
    "[Cooperative MIMO](https://en.wikipedia.org/wiki/Cooperative_MIMO) (multiple-input multiple-output) \n",
    "effectively exploits the spatial domain of mobile fading channels to significantly improve \n",
    "performance. In one of its variations, coordinated multipoint (CoMP), neighboring base stations \n",
    "share data and channel state information to enable them to coordinate downlink transmissions \n",
    "and jointly process received signals. This aggregated processing reduces the bit error rate \n",
    "(BER) compared to decoding the cellphone's transmission over a single channel but requires \n",
    "more powerful computation. \n",
    "\n",
    "[Cloud radio access network (C-RAN)](https://en.wikipedia.org/wiki/C-RAN), one form\n",
    "of CoMP, shifts processing from base stations to a shared data center. This notebook \n",
    "explores the advantages of incorporating a quantum computer into such data centers for \n",
    "improving performance with reduced power consumption.\n",
    "\n",
    "## References\n",
    "\n",
    "<a name=\"1\">[1]</a> Toshiyuki Tanaka. \n",
    "A Statistical-Mechanics Approach to Large-System Analysis of CDMA Multiuser Detectors.\n",
    "IEEE TRANSACTIONS ON INFORMATION THEORY, VOL. 48, NO. 11, NOVEMBER 2002\n",
    "\n",
    "<a name=\"2\">[2]</a> Minsung Kim, Davide Venturelli, and Kyle Jamieson. \n",
    "Leveraging quantum annealing for large MIMO processing in centralized radio access networks.\n",
    "SIGCOMM '19: Proceedings of the ACM Special Interest Group on Data Communication, August 2019, Pages 241–255 \n",
    "https://dl.acm.org/doi/10.1145/3341302.3342072"
   ]
  },
  {
   "cell_type": "markdown",
   "id": "8a18b9c6",
   "metadata": {},
   "source": [
    "# Modeling a Network\n",
    "\n",
    "A cellular network can be modelled as a lattice: some nodes represent cellphones (transmitters, \n",
    "denoted $T_x$), others base stations (receivers, $R_x$); edges between $T_x$ and $R_x$ nodes \n",
    "represent transmission channels. $T_x$ nodes can have edges to multiple $R_x$ nodes because, in \n",
    "CoMP, base stations can forward received signals, which have propagated through different channels \n",
    "with various noise, to be jointly processed.\n",
    "\n",
    "The graphic below illustrates the network used in this example:\n",
    "\n",
    "* Circles: red are transmitters (cellphones) and green are receivers (base stations).\n",
    "* Lines: red form the lattice of transmitters and green connect transmitters to receivers. \n",
    "* Black dotted square: four receivers, shown outlined with black circles, receive transmissions\n",
    "    from transmitter Tx, in the center, as well as transmissions from another eight transmitters, \n",
    "    outlined in blue. (The four blue-outlined transmitters horizontally and vertically aligned with \n",
    "    the center transmitter are its *nearest neighbors*; the other four, on the diagonals, are \n",
    "    the *next-nearest neighbors*.) Based on the signal received by the four outlined receivers, \n",
    "    the problem is to distinguish the center transmitter's signal from signals received from \n",
    "    its nearest and next-nearest neighbors.   \n",
    "\n",
    "<img src=\"_static/network.png\" width=\"500\">\n",
    "\n",
    "Increasing the number of $T_x$ nodes relative to $R_x$ nodes (the $\\frac{Tx}{Rx}$ ratio), raises \n",
    "the processing load, simulating base stations in densely populated areas with many cellphones \n",
    "communicating simultaneously. \n",
    "\n",
    "This first code cell imports the functionality needed for the following sections. "
   ]
  },
  {
   "cell_type": "code",
   "execution_count": null,
   "id": "69183b1a-8ab9-4be5-911b-d122c08e0eb1",
   "metadata": {},
   "outputs": [],
   "source": [
    "# General Python packages\n",
    "import matplotlib.pyplot as plt\n",
    "import numpy as np\n",
    "\n",
    "# Ocean software packages\n",
    "import dimod\n",
    "from dwave.system import DWaveSampler, FixedEmbeddingComposite\n",
    "\n",
    "# Functions of this repository\n",
    "from helpers.draw import draw_loop_comparison, draw_network\n",
    "from helpers.filters import apply_filters, compare_signals, create_filters, time_filter_instantiation\n",
    "from helpers.general import loop_comparisons\n",
    "from helpers.network import configure_network, create_channels, print_network_stats, simulate_signals\n",
    "\n",
    "# Enable graphics inline\n",
    "%matplotlib inline \n",
    "\n",
    "# Remove once dimod's mimo functions are updated\n",
    "import warnings\n",
    "warnings.filterwarnings('ignore')"
   ]
  },
  {
   "cell_type": "markdown",
   "id": "4c8ba226-8943-488b-ba70-384a0a1edd75",
   "metadata": {},
   "source": [
    "## Create a Network Graph\n",
    "\n",
    "The `configure_network` function in the code cell below returns a network based on a lattice \n",
    "that connects each node to its nearest neighbors. $T_x$ and $R_x$ nodes alternate, representing\n",
    "a network in which most<sup>[1]</sup> cellphones can transmit to four base stations. By default, \n",
    "it returns a network based on a $45x45$ lattice with a ratio of $\\frac{Tx}{Rx} \\approx 1.5$, \n",
    "achieved by randomly \"turning off\" some number of base stations. \n",
    "\n",
    "For visual clarity, this first section sets `network_size=5` for a network based on a 12x12 \n",
    "lattice (lattice length is $3n-3=12$ for $n=5$).\n",
    "\n",
    "<sup>[1]<sub>With the exception of nodes on the lattice boundaries and receivers turned off to achieve the desired transmitters-to-receivers ratio.</sub></sup>\n",
    "\n",
    "The `draw_network` function colors transmitters in red and receivers in green. "
   ]
  },
  {
   "cell_type": "code",
   "execution_count": null,
   "id": "dccf0add-a7c5-4201-9e04-b67ca78494e1",
   "metadata": {},
   "outputs": [],
   "source": [
    "network, _ = configure_network(network_size=5)\n",
    "\n",
    "print_network_stats(network)\n",
    "draw_network(network)"
   ]
  },
  {
   "cell_type": "markdown",
   "id": "496c12f4-636a-4814-80ac-673fcb4078be",
   "metadata": {},
   "source": [
    "## Create Channels\n",
    "\n",
    "The `create_channels` function below simulates the channels between transmitters and receivers. By \n",
    "default, it generates channels with a binary, real distribution that represents \n",
    "[inter-symbol interference (ISI)](https://en.wikipedia.org/wiki/Intersymbol_interference): each \n",
    "element of transmission sequences base station receive can be constituted of the emitted symbols \n",
    "of more than one cellphone."
   ]
  },
  {
   "cell_type": "code",
   "execution_count": null,
   "id": "5f7b9bf5-a740-459c-8b08-a3e47bc3084f",
   "metadata": {},
   "outputs": [],
   "source": [
    "channels, channel_power = create_channels(network)\n",
    "print(f\"Channels are represented by a {channels.shape[0]}x{channels.shape[1]} matrix.\")"
   ]
  },
  {
   "cell_type": "markdown",
   "id": "4322f26a-edd5-40a8-9230-d81b1ec31e6d",
   "metadata": {},
   "source": [
    "# Decoding Transmissions: Classical Resources\n",
    "\n",
    "To distinguish between the transmitted signals from multiple cellphones, and symbols from \n",
    "[additive environmental noise](https://en.wikipedia.org/wiki/Additive_white_Gaussian_noise), \n",
    "base stations standardly process (decode) transmissions with one of the following linear filters:\n",
    "\n",
    "* [Matched filter](https://en.wikipedia.org/wiki/Matched_filter) is the optimal linear filter \n",
    "    for maximizing signal-to-noise ratio (SNR) of channels modelled as having additive stochastic \n",
    "    noise. It uses the technique of [convolution](https://en.wikipedia.org/wiki/Convolution) with a \n",
    "    conjugated time-reversed signal template.\n",
    "* [Zero forcing](https://en.wikipedia.org/wiki/Zero-forcing_precoding) applies the inverse of the \n",
    "    channel frequency response to the received signal to restore the pre-transmission signal.\n",
    "* [Minimum mean squared error (MMSE)](https://en.wikipedia.org/wiki/Minimum_mean_square_error) \n",
    "    minimizes the mean square error (MSE) between the transmitted and the received signal to \n",
    "    mitigate effects of ISI and noise. \n",
    "\n",
    "## Create Filters\n",
    "\n",
    "The `create_filters` function below instantiates all three linear filters described above.\n",
    "\n",
    "<div class=\"alert alert-warning\" role=\"alert\" style=\"margin: 10px\">Note: Linear filters \n",
    "are instantiated for the channels they are intended to decode and such are short-lived. \n",
    "This crucial time constraint is considered in the following sections.</div>"
   ]
  },
  {
   "cell_type": "code",
   "execution_count": null,
   "id": "fbe22614-5a09-4038-a134-fcd87b44d126",
   "metadata": {},
   "outputs": [],
   "source": [
    "filters = create_filters(channels)\n",
    "print(f\"Created filters: {list(filters.keys())}.\")"
   ]
  },
  {
   "cell_type": "markdown",
   "id": "ad2cd3be-d5a9-40b5-b7e4-65588353b0cc",
   "metadata": {},
   "source": [
    "## Simulate Transmissions\n",
    "\n",
    "Cellular and wireless networks standardly use amplitude and phase modulation to encode \n",
    "transmissions. \n",
    "\n",
    "<img src=\"_static/qam.png\" width=\"600\">\n",
    "\n",
    "Typically used encodings include:\n",
    "\n",
    "* BPSK: Binary Phase Shift Keying. Transmission symbols are the real values $+1, -1$. This \n",
    "    is the encoding demonstrated in this example.\n",
    "* QPSK: Quadrature Phase Shift Keying. Transmission symbols are the complex values\n",
    "    $1+j, 1-j, -1+j, -1-j$. \n",
    "* 16-QAM: 16 complex-valued QPSK symbols modulated by either 1 or 3.\n",
    "* 64-QAM and 256-QAM: these scale up 16-QAM.\n",
    "\n",
    "The `simulate_signals` function below simulates the original and received transmissions:\n",
    "\n",
    "* `transmitted_symbols` is a sequence of BPSK symbols selected from a uniform random distribution.\n",
    "* `y` is the signal received by the base stations, the result of the instantiated channels acting \n",
    "    upon the transmitted symbols. "
   ]
  },
  {
   "cell_type": "code",
   "execution_count": null,
   "id": "963ab32e-8323-42ea-b001-30dae43dd11f",
   "metadata": {},
   "outputs": [],
   "source": [
    "y, transmitted_symbols = simulate_signals(channels, channel_power)                 \n",
    "print(f\"First 10 transmitted symbols: {transmitted_symbols.flatten()[:10]}. \\nFirst 10 received symbols: {y.flatten()[:10]}.\")"
   ]
  },
  {
   "cell_type": "markdown",
   "id": "c6dc5d18-110c-4ffb-9bad-48b17eda7fa4",
   "metadata": {},
   "source": [
    "## Decode Received Signals\n",
    "\n",
    "Use the `apply_filters` function below to decode, with each of the three linear filters, the signal \n",
    "received by the network's base stations. The `compare_signals` function then performs a bit-by-bit \n",
    "comparison between the received signal and the symbols transmitted by the network's cellphones."
   ]
  },
  {
   "cell_type": "code",
   "execution_count": null,
   "id": "38b7daba-1e8c-4bff-b3f9-d14d5a91f229",
   "metadata": {},
   "outputs": [],
   "source": [
    "v = apply_filters(y, filters)\n",
    "_ = compare_signals(v, transmitted_symbols)"
   ]
  },
  {
   "cell_type": "markdown",
   "id": "d21ce821-e164-491f-8bd7-9952229e5294",
   "metadata": {},
   "source": [
    "The preceding operations of this section do **not** account for two significant factors \n",
    "of real-world networks:\n",
    "\n",
    "1. Cellular networks impose strict constraints on processing time.\n",
    "2. In addition to the ISI represented by the simulated channel above, wireless environments are noisy. \n",
    "   The `simulate_signals` function can represent real wireless channels by adding random normal noise \n",
    "   to the transmitted symbols.\n",
    "\n",
    "The following sections take these factors into consideration."
   ]
  },
  {
   "cell_type": "markdown",
   "id": "65714077-8387-4498-87a0-9abc76ed3dbc",
   "metadata": {},
   "source": [
    "# Scaling Up\n",
    "\n",
    "In cellular networks, processing time is crucial: base stations/C-RANs must \n",
    "decode any received transmission frames (a defined number of sequential transmitted symbols) \n",
    "and return acknowledgements within a prescribed amount of time. For Wi-Fi networks, \n",
    "this imposes a hard requirement on processing time of tens of microseconds. In newer cellphone \n",
    "networks such as 4G LTE, receivers must process transmissions with similar speed due to \n",
    "redundancy schemes. \n",
    "\n",
    "Consequently, networks adopt processing algorithms such as linear filters that meet the speed \n",
    "requirements, even if performance is suboptimal.\n",
    "\n",
    "As noted above, linear filters are adapted specifically for the instantiated channels; in network\n",
    "terms, the filter's parameters are calibrated to the currently existing channels as periodically \n",
    "measured by having the network transmit a known pilot signal. The lifetime of such channels is \n",
    "tens of milliseconds. As a result, networks use filters that can be instantiated/calibrated fast. \n",
    "\n",
    "The `time_filter_instantiation` function below measures instantiation times for each of the three\n",
    "linear filters for a few different sizes of networks. Any instantiation times greater than half a \n",
    "second (500 milliseconds) are highlighted in red in the output. \n",
    "\n",
    "A more detailed comparison is given in the [Technical Supplement](#Technical-Supplement) section below."
   ]
  },
  {
   "cell_type": "code",
   "execution_count": null,
   "id": "bec5f987-df91-427c-8db3-b4a89f1ce1e4",
   "metadata": {},
   "outputs": [],
   "source": [
    "time_filter_instantiation(network_sizes=[5, 10, 15])"
   ]
  },
  {
   "cell_type": "markdown",
   "id": "6de8f542-6c50-4a87-a75f-b7a636c95244",
   "metadata": {},
   "source": [
    "The matched-filter algorithm scales up well and can be used in large wireless networks.\n",
    "The other two filters require a time-consuming mathematical operation, matrix inversion. \n",
    "Matrix inversion is slow even on GPUs and does not parallelize well. \n",
    "\n",
    "In the following sections, which demonstrate operations on networks of size 16, only the \n",
    "matched-filter algorithm is used.\n",
    "\n",
    "# Decoding Transmissions: Quantum Resources\n",
    "\n",
    "This section demonstrates using a quantum computer to decode wireless transmissions. \n",
    "\n",
    "First, select a quantum computer using [Ocean](https://docs.dwavequantum.com/en/latest/ocean/index.html) \n",
    "software's [DWaveSampler](https://docs.dwavequantum.com/en/latest/ocean/api_ref_system/samplers.html)\n",
    "class.\n",
    "\n",
    "By default, the quantum processing unit (QPU) with the greatest number of available qubits is selected.\n",
    "As of August 2023, that quantum computer is always an Advantage, which is based on the \n",
    "[Pegasus topology](https://docs.dwavequantum.com/en/latest/quantum_research/topologies.html). Although unnecessary, the \n",
    "preferred topology is explicitly set as a parameter to highlight that this example is designed for \n",
    "compliance with the Pegasus architecture. For further information, see the \n",
    "[Technical Supplement](#Technical-Supplement) section below.\n"
   ]
  },
  {
   "cell_type": "code",
   "execution_count": null,
   "id": "ce59a07c-acef-4c17-8551-6078377b3a3a",
   "metadata": {},
   "outputs": [],
   "source": [
    "qpu = DWaveSampler(solver=dict(topology__type=\"pegasus\"))\n",
    "\n",
    "print(f\"Selected {qpu.solver.name} with {len(qpu.nodelist)} qubits.\")"
   ]
  },
  {
   "cell_type": "markdown",
   "id": "859fa35d-f813-4836-81ba-190c4f48bc8d",
   "metadata": {},
   "source": [
    "## BQM Representation (Small-Town Problem)\n",
    "\n",
    "Any problem to be solved on a quantum computer \n",
    "[must be expressed](https://docs.dwavequantum.com/en/latest/quantum_research/workflow.html) as a \n",
    "binary quadratic model (BQM). \n",
    "\n",
    "This subsection demonstrates the following operations: \n",
    "\n",
    "* Create a network model that can be represented on the selected QPU.\n",
    "* Simulate a **noisy** transmission and decode it using the matched-filter algorithm.\n",
    "* Create a BQM representing the decoding problem and solve it on the quantum computer.\n",
    "\n",
    "### Create the Problem and Decode Classically\n",
    "\n",
    "First, repeat the operations of the previous section but now using parameters `qpu` and `SNRb`:\n",
    "\n",
    "* `SNRb` sets the level of noise the `simulate_signals` function adds to the received signal, `y`.\n",
    "* `qpu` gives the `configure_network` function access to the selected QPU's\n",
    "    [working graph](https://docs.dwavequantum.com/en/latest/quantum_research/topologies.html#the-working-graph). The function\n",
    "    uses it to generate the returned `embedding` variable, which is needed in the \n",
    "    [Decode Received Signals](#Decode-Received-Signals) subsection below. \n",
    "\n",
    "For comparison, also decode the transmission with a matched filter. "
   ]
  },
  {
   "cell_type": "code",
   "execution_count": null,
   "id": "bac39864",
   "metadata": {},
   "outputs": [],
   "source": [
    "SNRb = 10\n",
    "\n",
    "# Create a model network\n",
    "network, embedding = configure_network(network_size=16, qpu=qpu)\n",
    "print_network_stats(network)\n",
    "\n",
    "# Model the channel used for a particular transmission interval\n",
    "channels, channel_power =  create_channels(network)\n",
    "\n",
    "# Instantiate a matched filter for the transmission interval\n",
    "filter_mf = create_filters(channels, methods=['matched_filter'])\n",
    "y, transmitted_symbols = simulate_signals(channels, channel_power, SNRb=SNRb)  \n",
    "\n",
    "# Decode the transmission with the linear filter and compare to the original transmitted symbols\n",
    "v = apply_filters(y, filter_mf) \n",
    "_ = compare_signals(v, transmitted_symbols)"
   ]
  },
  {
   "cell_type": "markdown",
   "id": "e648574b-42a3-43aa-9580-5b95ea72660e",
   "metadata": {},
   "source": [
    "### Create a BQM\n",
    "\n",
    "Ocean's [dimod](https://docs.dwavequantum.com/en/latest/ocean/api_ref_dimod/index.html) package\n",
    "provides [generators](https://docs.dwavequantum.com/en/latest/ocean/api_ref_dimod/generators.html) \n",
    "for various common problems. Below, use the `spin_encoded_comp` generator to translate the network \n",
    "problem into a BQM.\n",
    "\n",
    "For this example's case of BPSK, where symbols are 1 or -1, the reduced objective function,\n",
    "\n",
    "![eq3](_static/eq_e_quadratic.png)\n",
    "\n",
    "where $H$ is the Hamiltonian and $N_r, N_t$ are the numbers of receivers and transmitters,\n",
    "is represented by the Ising model,\n",
    "\n",
    "![eq4](_static/eq_h_j.png)\n",
    "\n",
    "where superscript Q and I denote imaginary and real parts, respectively. "
   ]
  },
  {
   "cell_type": "code",
   "execution_count": null,
   "id": "66864661-740e-4a10-b3b2-0759396679e4",
   "metadata": {},
   "outputs": [],
   "source": [
    "bqm = dimod.generators.wireless.coordinated_multipoint(network, \n",
    "                                                       modulation='BPSK',\n",
    "                                                       F_distribution=('binary','real'), \n",
    "                                                       F=channels,\n",
    "                                                       y=y)\n",
    "\n",
    "print(f\"BQM has {len(bqm)} variables with {len(bqm.quadratic)} quadratic interactions.\")"
   ]
  },
  {
   "cell_type": "markdown",
   "id": "c118d36c-d269-45f5-b49e-4595cc4c7a28",
   "metadata": {},
   "source": [
    "### Decode Received Signals\n",
    "\n",
    "Use the selected quantum computer to decode the transmission.\n",
    "\n",
    "Ocean software's \n",
    "[FixedEmbeddingComposite](https://docs.dwavequantum.com/en/latest/ocean/api_ref_system/composites.html#fixedembeddingcomposite)\n",
    "handles the mapping between the problem's variables ($T_x$ nodes of the network) and the QPU's\n",
    "qubits, using the `embedding` variable found above as the \n",
    "[minor-embedding](https://docs.dwavequantum.com/en/latest/quantum_research/example_sat_constrained.html). \n",
    "\n",
    "More information about the minor-embedding, and the QPU parameters used below, is given in the \n",
    "[Technical Supplement](#Technical-Supplement) section. "
   ]
  },
  {
   "cell_type": "code",
   "execution_count": null,
   "id": "e4e68908-80e4-4819-861f-cee2f31b6d1d",
   "metadata": {},
   "outputs": [],
   "source": [
    "sampler = FixedEmbeddingComposite(qpu, embedding)\n",
    "\n",
    "sampleset = sampler.sample(bqm, \n",
    "                           num_reads=30, \n",
    "                           annealing_time=200, \n",
    "                           chain_strength=-0.13*min(bqm.linear.values()),\n",
    "                           label='Notebook - Coordinated Multipoint')\n",
    "\n",
    "_ = compare_signals(sampleset, transmitted_symbols)"
   ]
  },
  {
   "cell_type": "markdown",
   "id": "d5bd407a-a4c6-4ab8-a3fb-f536280edf91",
   "metadata": {},
   "source": [
    "## Big-City Problems\n",
    "\n",
    "Problems become harder[[1]](#1) with increases to channel noise and base-station load. \n",
    "The graphic below shows the bit error rate (BER) as a function of SNRb and $\\frac{Tx}{Rx}$ \n",
    "for a large network (`network_size=16`). Each data point is the median of ten problems \n",
    "solved by running simulated annealing for hundreds of times longer than the practicable \n",
    "runtimes used in this notebook (around 10 seconds versus 30 milliseconds used to \n",
    "meet wireless-network requirements).\n",
    "\n",
    "<img src=\"_static/problem_hardness.png\" width=\"800\">\n",
    "\n",
    "One sees, for example, that for SNRb of 5 and $\\frac{Tx}{Rx}=1.5$, the expected BER approaches \n",
    "10%. Toward the top left of this graphic, interference and noise are sufficient to introduce \n",
    "high levels of bit errors in even ideal decoders that obtain the ground state (equivalent \n",
    "to the maximum likelihood solution). \n",
    "\n",
    "The next cell runs `runs` number of problems. By default, its `loop_comparisons` function \n",
    "sets `network_size=16`, SNRb to 5 and the $\\frac{Tx}{Rx}$ ratio to 1.5.  "
   ]
  },
  {
   "cell_type": "code",
   "execution_count": null,
   "id": "cfffa401-a536-4ab0-b392-b5b54dcde39a",
   "metadata": {},
   "outputs": [],
   "source": [
    "results = loop_comparisons(runs=10, qpu=qpu)\n",
    "medians = {filter: np.median(val) for filter, val in results.items()}\n",
    "\n",
    "for solver in medians:\n",
    "    print(f'\\t * Median success rate for {solver}: {medians[solver]}.')\n",
    "\n",
    "draw_loop_comparison(results)"
   ]
  },
  {
   "cell_type": "markdown",
   "id": "8df68e7b-f621-4a81-8da2-9bdef2f556d1",
   "metadata": {},
   "source": [
    "### Rough-Neighborhood Problems\n",
    "\n",
    "For completeness, this subsection demonstrates a particularly hard problem by setting high \n",
    "values of noise and load. You can configure `SNR` and `tx_to_rx` below to your own preferred \n",
    "values."
   ]
  },
  {
   "cell_type": "code",
   "execution_count": null,
   "id": "dc13801e-4976-4a6e-b1d7-20d6d5d6c75c",
   "metadata": {},
   "outputs": [],
   "source": [
    "SNRb = 4.5\n",
    "tx_to_rx = 1.65\n",
    "\n",
    "\n",
    "results = loop_comparisons(runs=5, qpu=qpu, snr=SNRb, ratio=tx_to_rx)\n",
    "medians = {filter: np.median(val) for filter, val in results.items()}\n",
    "\n",
    "for solver in medians:\n",
    "    print(f'\\t * Median success rate for {solver}: {medians[solver]}.')\n",
    "\n",
    "draw_loop_comparison(results, SNRb=SNRb, ratio=tx_to_rx)"
   ]
  },
  {
   "cell_type": "markdown",
   "id": "cf07f63a-feaf-44c3-9347-df8c34f30ba6",
   "metadata": {},
   "source": [
    "# Technical Supplement\n",
    "\n",
    "This section provides more technical details on some of the topics demonstrated above."
   ]
  },
  {
   "cell_type": "markdown",
   "id": "82717b9f-2f7a-47c5-b3ad-78bf7c035f3c",
   "metadata": {},
   "source": [
    "## Performance of Matrix-Inverting Filters "
   ]
  },
  {
   "cell_type": "markdown",
   "id": "60f8f280-311e-4536-a2ee-e2398875169e",
   "metadata": {},
   "source": [
    "Processing time in Wi-Fi/cellular networks is crucial: base stations or C-RANs must \n",
    "decode transmissions in at most tens of milliseconds. \n",
    "\n",
    "As demonstrated above, the matched-filter algorithm scales up well and can be used in large wireless networks.\n",
    "The other two filters require a time-consuming mathematical operation, matrix inversion, which is slow even on \n",
    "GPUs and does not parallelize well. \n",
    "\n",
    "For a range of network sizes, the next plot shows the following information:\n",
    "\n",
    "* Decoding success rate (left). Each data point is the mean of ten problems with SNRb of 5 and $\\frac{Tx}{Rx}=1.5$. \n",
    "* Instantiation time (right). Times were measured on a 10-core i5 Intel processor operating at 1600 Mhz.  \n",
    "\n",
    "<img src=\"_static/all_matched_filters_performance.png\" width=\"800\">\n",
    "\n",
    "Instantiation times that exceed a second, as they do for the matrix-inverting filters, preclude their usage\n",
    "in processing transmissions for networks above certain scales. "
   ]
  },
  {
   "cell_type": "markdown",
   "id": "3999f691-7bd1-4984-bf32-a9aa3a5dd0bb",
   "metadata": {},
   "source": [
    "## Comparison to Simulated Annealing\n",
    "\n",
    "[Simulated annealing](https://en.wikipedia.org/wiki/Simulated_annealing) is a powerful heuristic\n",
    "that dominates the space of general solvers. For many problems it is considered the benchmark \n",
    "for performance.\n",
    "\n",
    "Like the matrix inversion required to instantiate the zero-forcing and MMSE linear filters, \n",
    "simulated annealing is computationally demanding: it requires a strong processor with high \n",
    "power consumption. \n",
    "\n",
    "For the comparisons of this subsection, assume that an algorithm running on a CPU requires \n",
    "10e-8 seconds per variable update: a network of size 16 has about 2000 variables ($T_x$ nodes),\n",
    "so each sweep of simulated annealing takes around 200 microseconds. To compare performance to the QPU with \n",
    "its [access time](https://docs.dwavequantum.com/en/latest/quantum_research/operation_timing.html#qpu-access-time) of about \n",
    "30 milliseconds, the `loop_comparisons` function runs simulated annealing for 150 sweeps. By default, \n",
    "it runs on a network of size 16 with SNRb  of 5 and  $\\frac{Tx}{Rx}=1.5$."
   ]
  },
  {
   "cell_type": "code",
   "execution_count": null,
   "id": "0e04052e-4a1b-4383-a7d1-ee3861122a77",
   "metadata": {},
   "outputs": [],
   "source": [
    "results = loop_comparisons(runs=5, qpu=qpu, solvers=['SA'])\n",
    "medians = {filter: np.median(val) for filter, val in results.items()}\n",
    "\n",
    "for solver in medians:\n",
    "    print(f'\\t * Median success rate for {solver}: {medians[solver]}.')\n",
    "\n",
    "draw_loop_comparison(results)"
   ]
  },
  {
   "cell_type": "markdown",
   "id": "96c19e09-d39a-4cb2-ad4d-e128b4a9af54",
   "metadata": {},
   "source": [
    "## Comparison to Other Classical Algorithms\n",
    "\n",
    "For completeness, this subsection demonstrates comparisons to additional algorithms standardly used\n",
    "to solve hard problems:\n",
    "\n",
    "* [Steepest Descent](https://docs.dwavequantum.com/en/latest/ocean/api_ref_samplers/api_ref.html#steepest-descent), \n",
    "    a discrete analogue of the [gradient descent](https://en.wikipedia.org/wiki/Gradient_descent) technique.\n",
    "* [Tabu](https://docs.dwavequantum.com/en/latest/ocean/api_ref_samplers/api_ref.html#tabu), a heuristic that employs \n",
    "    local search with methods to escape local minima.\n",
    "\n",
    "Like simulated annealing, both are computationally demanding.  "
   ]
  },
  {
   "cell_type": "code",
   "execution_count": null,
   "id": "55c8d2bd-6539-44e0-b24c-a55fe8f51ffd",
   "metadata": {},
   "outputs": [],
   "source": [
    "results = loop_comparisons(runs=5, qpu=qpu, solvers=['greedy', 'tabu'])\n",
    "medians = {filter: np.median(val) for filter, val in results.items()}\n",
    "\n",
    "for solver in medians:\n",
    "    print(f'\\t * Median success rate for {solver}: {medians[solver]}.')\n",
    "\n",
    "draw_loop_comparison(results)"
   ]
  },
  {
   "cell_type": "markdown",
   "id": "cd12b618",
   "metadata": {},
   "source": [
    "### Preprocessing Performance\n",
    "\n",
    "For completeness, this subsection also looks at the performance of \n",
    "[preprocessing](https://en.wikipedia.org/wiki/Data_Preprocessing). For some classes of problems,\n",
    "a short period of preprocessing prior to running a solver can result in improved solutions and \n",
    "runtimes. \n",
    "\n",
    "The plot below shows the use of \n",
    "[roof duality](https://docs.dwavequantum.com/en/latest/ocean/api_ref_preprocessing/api_ref.html#roof-duality)\n",
    "to fix variables before applying a tabu sampler. Each point on the plot represents the median of \n",
    "20 problems. \n",
    "\n",
    "<img src=\"_static/preprocessing.png\" width=\"700\">\n",
    "\n",
    "One sees that as problems harden&mdash;size and $\\frac{T_x}{R_x}$ increase and SNRb decreases&mdash;preprocessing \n",
    "loses effectiveness."
   ]
  },
  {
   "cell_type": "markdown",
   "id": "a1cc3a71-69c2-4995-a2e5-4239dd66147a",
   "metadata": {},
   "source": [
    "### Postprocessing Performance\n",
    "\n",
    "For completeness, this subsection also looks at the performance of postprocessing. For some classes of problems,\n",
    "a short period of postprocessing the results of running a solver can result in improved solutions at the cost \n",
    "of somewhat longer runtimes. \n",
    "\n",
    "The plot below shows the use of \n",
    "[SteepestDescentSolver](https://docs.dwavequantum.com/en/latest/ocean/api_ref_samplers/api_ref.html#steepestdescentsolver),\n",
    "a greedy solver, to find a minimum near the returned result of a linear filter and the quantum computer. Each \n",
    "point on the plot represents the median of 10 problems. \n",
    "\n",
    "This combination of a matched filter with greedy post-processing can be considered a form of iterative decoding \n",
    "(also called [message passing](https://en.wikipedia.org/wiki/Message_passing), or \n",
    "[loopy belief propagation](https://en.wikipedia.org/wiki/Belief_propagation)). Iterative decoding is used \n",
    "in some SOTA base stations and can be implemented in the cooperative multi-point problem so as to scale \n",
    "only linearly with the number of base stations (as in this example), and, like the QPU and unlike linear \n",
    "filters, can account for non-linearities.\n",
    "\n",
    "<img src=\"_static/postprocessing.png\" width=\"700\">\n",
    "\n",
    "One sees that as problems harden&mdash;size and $\\frac{T_x}{R_x}$ increase and SNRb decreases&mdash;postprocessing \n",
    "produces less improvement."
   ]
  },
  {
   "cell_type": "markdown",
   "id": "3e124779",
   "metadata": {},
   "source": [
    "## Configuring Optimal QPU Parameters"
   ]
  },
  {
   "cell_type": "markdown",
   "id": "eafdbd72-2b04-4500-b33c-b5e016029b79",
   "metadata": {},
   "source": [
    "Ocean software selects reasonable default parameters when submitting problems to the \n",
    "quantum computer. However, when performance in crucial, as in these problems, where \n",
    "differences of a percent matter, it is important to configure the QPU with optimal \n",
    "parameter values. D-Wave's [system documentation](https://docs.dwavequantum.com/en/latest/quantum_research/index_using.html)\n",
    "provides guidance on optimizing QPU use.\n",
    "\n",
    "Here, two non-default parameters are used:\n",
    "\n",
    "* [annealing_time](https://docs.dwavequantum.com/en/latest/quantum_research/solver_parameters.html#annealing-time) sets \n",
    "    the duration, in microseconds, of quantum annealing time, per read. \n",
    "\n",
    "    For time-critical problems, rather than use the default 20 microseconds with a large \n",
    "    number of reads, a good rule of thumb is to balance the programming and sampling times \n",
    "    in the overall [QPU access time](https://docs.dwavequantum.com/en/latest/quantum_research/operation_timing.html#qpu-access-time).\n",
    "    The QPU access time \n",
    "    [estimation](https://docs.dwavequantum.com/en/latest/quantum_research/operation_timing.html#estimating-access-time) algorithm \n",
    "    and companion Ocean tool produce an optimal annealing time of just over 200 microseconds for \n",
    "    most the problems in this example.\n",
    "     \n",
    "* [Chain strength](https://docs.dwavequantum.com/en/latest/quantum_research/embedding_intro.html#chain-strength)\n",
    "    sets the coupling strength between qubits that form a \n",
    "    [chain](https://docs.dwavequantum.com/en/latest/quantum_research/embedding_intro.html#chains). \n",
    "\n",
    "    For most problems, the default \n",
    "    [chain-strength calculation](https://docs.dwavequantum.com/en/latest/ocean/api_ref_system/embedding.html)\n",
    "    produces decent results. For this problem, however, it does not.\n",
    "\n",
    "    The following plot shows the bit error rate (BER) and the fraction of broken chains for a range\n",
    "    of chain strengths, calculated as `-cs_multiplier*min(bqm.linear.values())`, where `cs_multiplier` \n",
    "    is a multiplier of the most negative value of $h_i$, the linear coefficients of the BQM. Each data \n",
    "    point is the median of twenty problems with SNRb of 5 and $\\frac{Tx}{Rx}=1.5$ for a large network (`network_size=16`). \n",
    "\n",
    "    The optimal chain strength of around $-0.13\\min{h_i}$ produces consistently good performance for all\n",
    "    the problem instances (the range of network sizes, SNR, $\\frac{Tx}{Rx}$ ratio, and transmission \n",
    "    patterns) of this example.\n",
    "\n",
    "<img src=\"_static/chain_strength.png\" width=\"700\">"
   ]
  },
  {
   "cell_type": "markdown",
   "id": "d2a26d8e-a781-4fad-a93e-d9b7442d9782",
   "metadata": {},
   "source": [
    "## Minor Embedding\n",
    "\n",
    "For most problems submitted directly to the QPU, mapping between the problem's variables and \n",
    "QPU qubits is heuristic, automated by such tools as Ocean's \n",
    "[minorminer](https://docs.dwavequantum.com/en/latest/ocean/api_ref_minorminer/source/index.html) \n",
    "package. \n",
    "\n",
    "Although that package also provides algorithms for minor-embedding graphs with regularities, \n",
    "one can produce more efficient embeddings by tiling an optimal cell embedding across the full\n",
    "graph. However, because the \n",
    "QPU [working graph](https://docs.dwavequantum.com/en/latest/quantum_research/topologies.html#the-working-graph) \n",
    "can contain defects due to some small number of qubits and couplers being removed for failing \n",
    "to meet the specifications to function as desired, one needs to shift the mapping around those. \n",
    "The `configure_network` function handles this.\n",
    "\n",
    "The graphic below shows how a small network graph (`network_size=4`) is minor-embedded into the \n",
    "selected QPU's working graph. \n",
    "\n",
    "Colored dots are qubits: note that pairs of identically-colored dots (two-qubit chains), such as the blue, green, and red pairs on the top row, represent a single node of the logical network. "
   ]
  },
  {
   "cell_type": "markdown",
   "id": "33dc11c9-c0d7-429b-8ef1-daedd9a29fa4",
   "metadata": {},
   "source": [
    "<img src=\"_static/embedding_lattice4.png\" width=\"700\">\n"
   ]
  },
  {
   "cell_type": "markdown",
   "id": "d5bffa59",
   "metadata": {},
   "source": [
    "Copyright &copy; 2023 D-Wave Systems, Inc\n",
    "\n",
    "The software is licensed under the Apache License, Version 2.0 (the \"License\");\n",
    "you may not use this file except in compliance with the License.\n",
    "You may obtain a copy of the License at\n",
    "\n",
    "    http://www.apache.org/licenses/LICENSE-2.0\n",
    "\n",
    "Unless required by applicable law or agreed to in writing, software\n",
    "distributed under the License is distributed on an \"AS IS\" BASIS,\n",
    "WITHOUT WARRANTIES OR CONDITIONS OF ANY KIND, either express or implied.\n",
    "See the License for the specific language governing permissions and\n",
    "limitations under the License.\n",
    "\n",
    "<a rel=\"license\" href=\"http://creativecommons.org/licenses/by-nc-sa/4.0/\"><img alt=\"Creative Commons License\" style=\"border-width:0\" src=\"https://i.creativecommons.org/l/by-nc-sa/4.0/88x31.png\" /></a><br />This Jupyter Notebook is licensed under a <a rel=\"license\" href=\"http://creativecommons.org/licenses/by-nc-sa/4.0/\">Creative Commons Attribution-NonCommercial-ShareAlike 4.0 International License</a>"
   ]
  }
 ],
 "metadata": {
  "kernelspec": {
   "display_name": "Python 3 (ipykernel)",
   "language": "python",
   "name": "python3"
  },
  "language_info": {
   "codemirror_mode": {
    "name": "ipython",
    "version": 3
   },
   "file_extension": ".py",
   "mimetype": "text/x-python",
   "name": "python",
   "nbconvert_exporter": "python",
   "pygments_lexer": "ipython3",
   "version": "3.10.2"
  }
 },
 "nbformat": 4,
 "nbformat_minor": 5
}
